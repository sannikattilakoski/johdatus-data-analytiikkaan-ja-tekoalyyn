{
 "cells": [
  {
   "cell_type": "markdown",
   "metadata": {},
   "source": [
    "## Exercise 1 - Python fundamentals Part 1"
   ]
  },
  {
   "cell_type": "markdown",
   "metadata": {},
   "source": [
    "1 Sentence is presented in the code cell below. Create a variable which has first ten and last ten characters concatenated."
   ]
  },
  {
   "cell_type": "code",
   "execution_count": 1,
   "metadata": {
    "tags": []
   },
   "outputs": [],
   "source": [
    "# Sentence\n",
    "s = \"Gary must look towards the future in order to gather enough information from the target.\""
   ]
  },
  {
   "cell_type": "code",
   "execution_count": 2,
   "metadata": {},
   "outputs": [
    {
     "name": "stdout",
     "output_type": "stream",
     "text": [
      "Gary must he target.\n",
      "There are 20 characters in the variable.\n"
     ]
    }
   ],
   "source": [
    "#Characters concatenated\n",
    "s2 = s[:10]+s[-10:]\n",
    "print(s2)\n",
    "\n",
    "#Checking the length of the variable\n",
    "print(f\"There are {len(s2)} characters in the variable.\")"
   ]
  },
  {
   "cell_type": "markdown",
   "metadata": {},
   "source": [
    "2 Count the number of white spaces between words from the previous sentence and divide that number with the length of the sentence."
   ]
  },
  {
   "cell_type": "code",
   "execution_count": 3,
   "metadata": {},
   "outputs": [
    {
     "name": "stdout",
     "output_type": "stream",
     "text": [
      "Whitespaces: 14\n",
      "Length of sentence: 88\n",
      "0.1590909090909091\n"
     ]
    }
   ],
   "source": [
    "# Your answer here\n",
    "count = 0\n",
    "\n",
    "for i in s:\n",
    "    if i == \" \":\n",
    "        count+=1\n",
    "\n",
    "length =len(s)\n",
    "\n",
    "print(f\"Whitespaces: {count}\")\n",
    "print(f\"Length of sentence: {length}\")\n",
    "print(count/length)"
   ]
  },
  {
   "cell_type": "markdown",
   "metadata": {},
   "source": [
    "3 Add the following cars to the existing list of dictionary objects:\n",
    "    - Red Toyota Corolla (1985)\n",
    "    - Lightblue Ford Mustang (1965)\n",
    "    - Black Pontiac Firebird (1987)"
   ]
  },
  {
   "cell_type": "code",
   "execution_count": 4,
   "metadata": {},
   "outputs": [
    {
     "name": "stdout",
     "output_type": "stream",
     "text": [
      "[{'make': 'Ford', 'model': 'escort', 'color': 'green', 'year': 1994}, {'make': 'Lexus', 'model': 'IS250', 'color': 'beige', 'year': 2013}, {'make': 'Volvo', 'model': 'S40', 'color': 'blue', 'year': 1998}, {'make': 'Toyota', 'model': 'Corolla', 'color': 'red', 'year': 1985}, {'make': 'Ford', 'model': 'Mustang', 'color': 'lightblue', 'year': 1965}, {'make': 'Pontiac', 'model': 'Firebird', 'color': 'black', 'year': 1987}]\n"
     ]
    }
   ],
   "source": [
    "# Cars\n",
    "cars = [{\"make\":\"Ford\",\"model\":\"escort\",\"color\":\"green\",\"year\":1994},{\"make\":\"Lexus\",\"model\":\"IS250\",\"color\":\"beige\",\"year\":2013},{\"make\":\"Volvo\",\"model\":\"S40\",\"color\":\"blue\",\"year\":1998}]\n",
    "more_cars = [{\"make\":\"Toyota\",\"model\":\"Corolla\",\"color\":\"red\",\"year\":1985}, {\"make\":\"Ford\", \"model\":\"Mustang\", \"color\":\"lightblue\", \"year\":1965}, {\"make\":\"Pontiac\", \"model\":\"Firebird\", \"color\":\"black\", \"year\":1987}]\n",
    "\n",
    "for i in more_cars:\n",
    "    cars.append(i)\n",
    "print(cars)"
   ]
  },
  {
   "cell_type": "markdown",
   "metadata": {},
   "source": [
    "4 Convert the sentence presented below to list using commas (,) as separators. Then create a new list which contains only the last three items from the list."
   ]
  },
  {
   "cell_type": "code",
   "execution_count": 5,
   "metadata": {},
   "outputs": [
    {
     "name": "stdout",
     "output_type": "stream",
     "text": [
      "['Occaecat short ribs incididunt laboris. Bresaola', ' brisket ex', ' landjaeger ad', ' boudin pariatur frankfurter eu flank. Enim tail short ribs', ' shoulder duis minim excepteur', ' deserunt lorem porchetta. Dolor chicken spare ribs', ' id in', ' ball', ' tip', ' hamburger labore venison consectetur cupidatat.']\n",
      "New list is: [' ball', ' tip', ' hamburger labore venison consectetur cupidatat.']\n"
     ]
    }
   ],
   "source": [
    "# Sentence\n",
    "s = \"Occaecat short ribs incididunt laboris. Bresaola, brisket ex, landjaeger ad, boudin pariatur frankfurter eu flank. Enim tail short ribs, shoulder duis minim excepteur, deserunt lorem porchetta. Dolor chicken spare ribs, id in, ball, tip, hamburger labore venison consectetur cupidatat.\"\n",
    "\n",
    "#Convert to list\n",
    "lst = s.split(\",\")\n",
    "print(lst)\n",
    "\n",
    "#New list with last three items\n",
    "new_list = lst[-3:]\n",
    "print(f\"New list is: {new_list}\")"
   ]
  }
 ],
 "metadata": {
  "kernelspec": {
   "display_name": "Python 3 (ipykernel)",
   "language": "python",
   "name": "python3"
  },
  "language_info": {
   "codemirror_mode": {
    "name": "ipython",
    "version": 3
   },
   "file_extension": ".py",
   "mimetype": "text/x-python",
   "name": "python",
   "nbconvert_exporter": "python",
   "pygments_lexer": "ipython3",
   "version": "3.9.13"
  },
  "vscode": {
   "interpreter": {
    "hash": "05cbb8e30cd2cbe161554e93617827c610928832f77224aad1765f5c87120ccf"
   }
  }
 },
 "nbformat": 4,
 "nbformat_minor": 4
}
